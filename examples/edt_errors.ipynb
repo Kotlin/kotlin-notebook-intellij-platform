{
 "cells": [
  {
   "metadata": {},
   "cell_type": "markdown",
   "source": [
    "# EDT Errors\n",
    "\n",
    "A simple notebook presenting the `error` helper to print nice error messages, also from EDT."
   ]
  },
  {
   "metadata": {
    "ExecuteTime": {
     "end_time": "2025-07-28T09:35:51.997620Z",
     "start_time": "2025-07-28T09:35:51.719310Z"
    }
   },
   "cell_type": "code",
   "source": "%use intellij-platform",
   "outputs": [
    {
     "data": {
      "text/plain": [
       "IntelliJ Platform integration is loaded"
      ]
     },
     "metadata": {},
     "output_type": "display_data",
     "jetTransient": {
      "display_id": null
     }
    }
   ],
   "execution_count": 1
  },
  {
   "metadata": {
    "ExecuteTime": {
     "end_time": "2025-07-28T09:35:52.043794Z",
     "start_time": "2025-07-28T09:35:52.015087Z"
    }
   },
   "cell_type": "code",
   "source": [
    "runInEdt {\n",
    "    error(\"Oh no!\")\n",
    "}"
   ],
   "outputs": [
    {
     "ename": "org.jetbrains.kotlinx.jupyter.api.exceptions.ReplUnwrappedExceptionImpl",
     "evalue": "Oh no!",
     "output_type": "error",
     "traceback": [
      "Oh no!"
     ]
    }
   ],
   "execution_count": 2
  },
  {
   "metadata": {},
   "cell_type": "code",
   "source": "error(\"This shouldn't be executed\")",
   "outputs": [],
   "execution_count": null
  }
 ],
 "metadata": {
  "kernelspec": {
   "display_name": "Kotlin",
   "language": "kotlin",
   "name": "kotlin"
  },
  "language_info": {
   "name": "kotlin",
   "version": "1.9.23",
   "mimetype": "text/x-kotlin",
   "file_extension": ".kt",
   "pygments_lexer": "kotlin",
   "codemirror_mode": "text/x-kotlin",
   "nbconvert_exporter": ""
  },
  "ktnbPluginMetadata": {
   "sessionRunMode": "IDE_PROCESS"
  }
 },
 "nbformat": 4,
 "nbformat_minor": 0
}
