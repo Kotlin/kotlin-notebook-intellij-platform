{
 "cells": [
  {
   "metadata": {},
   "cell_type": "markdown",
   "source": [
    "# Notification Example\n",
    "\n",
    "Notification is a non-modal option to show errors or other important information without interrupting the user's workflow. The [IntelliJ Platform Plugin SDK](https://plugins.jetbrains.com/docs/intellij/notifications.html) provides more detailed description of the capabilities and UI guidelines.\n",
    "\n",
    "Let's create a simple notification. To do that, let's enable IntelliJ Platform Integration and load necessary libraries."
   ]
  },
  {
   "metadata": {
    "executionRelatedData": {
     "compiledClasses": [
      "Line_2_jupyter",
      "Line_3_jupyter"
     ]
    }
   },
   "cell_type": "code",
   "source": [
    "%useLatestDescriptors\n",
    "%use intellij-platform"
   ],
   "outputs": [],
   "execution_count": null
  },
  {
   "metadata": {},
   "cell_type": "markdown",
   "source": "Run this cell and make sure that the integration was properly initialized. Before doing this, choose _Run in IDE Process_ mode."
  },
  {
   "metadata": {},
   "cell_type": "markdown",
   "source": [
    "## Creating a Simple Notification Baloon\n",
    "\n",
    "Let's create a simple notification balloon."
   ]
  },
  {
   "metadata": {
    "executionRelatedData": {
     "compiledClasses": [
      "Line_4_jupyter",
      "Line_7_jupyter",
      "Line_4_jupyter",
      "Line_10_jupyter",
      "Line_7_jupyter"
     ]
    }
   },
   "cell_type": "code",
   "source": [
    "import com.intellij.notification.NotificationGroupManager\n",
    "import com.intellij.notification.NotificationType\n",
    "import com.intellij.notification.NotificationsManager\n",
    "\n",
    "runInEdt {\n",
    "    NotificationGroupManager.getInstance()\n",
    "        .getNotificationGroup(\"Kotlin Notebook session info\")\n",
    "        .createNotification(\"Hello from Kotlin Notebook\", NotificationType.INFORMATION)\n",
    "        .notify(currentProject())\n",
    "}"
   ],
   "outputs": [],
   "execution_count": null
  },
  {
   "metadata": {},
   "cell_type": "markdown",
   "source": [
    "This will show a *timed notification* that remains on the screen for 10 seconds and then disappear.\n",
    "\n",
    "Each notification belongs to a *notification group*. In this example, we will reuse the notification group provided by the Kotlin Notebook.\n",
    "\n",
    "We will provide the notification text and treat it as a general innformation."
   ]
  },
  {
   "metadata": {},
   "cell_type": "markdown",
   "source": [
    "# Creating a Notification in the Custom Notification Group\n",
    "\n",
    "A custom notification group allows the user to control how each notification is displayed.\n",
    "This can be customized in *Appearance & Behavior | Notifications*.\n",
    "\n",
    "In plugin descriptor, the notification group is specified in the `id` attribute.\n",
    "\n",
    "```\n",
    "<extensions defaultExtensionNs=\"com.intellij\">\n",
    "  <notificationGroup id=\"Kotlin Notebook Sample Notifications\"\n",
    "                     displayType=\"BALLOON\" />\n",
    "</extensions>\n",
    "```\n",
    "\n",
    "In Kotlin Notebook, we can specify the notification group by using the corresponding extension point class.\n",
    "In this example, it is the [`NotificationGroupEP`](https://github.com/JetBrains/intellij-community/blob/master/platform/ide-core-impl/src/com/intellij/notification/impl/NotificationGroupEP.java) class."
   ]
  },
  {
   "metadata": {},
   "cell_type": "markdown",
   "source": [
    "### Working Around Platform SDK Issues\n",
    "Due to [IJPL-213568](https://youtrack.jetbrains.com/issue/IJPL-213568), we cannot set the display type of the notification group programmaticaly.\n",
    "Until this is fixed, we will resort to the reflection."
   ]
  },
  {
   "metadata": {
    "executionRelatedData": {
     "compiledClasses": [
      "Line_6_jupyter",
      "Line_9_jupyter",
      "Line_6_jupyter",
      "Line_12_jupyter",
      "Line_9_jupyter",
      "Line_13_jupyter",
      "Line_12_jupyter"
     ]
    }
   },
   "cell_type": "code",
   "source": [
    "import com.intellij.notification.impl.NotificationGroupEP\n",
    "\n",
    "fun NotificationGroupEP.setDisplayType(displayTypeValue: String) {\n",
    "    try {\n",
    "        val field = this::class.java.getDeclaredField(\"displayType\")\n",
    "        field.isAccessible = true\n",
    "        require(field.type.isEnum) { \"Field 'displayType' is not an enum\" }\n",
    "        field.type.enumConstants\n",
    "            .find { (it as Enum<*>).name == displayTypeValue }\n",
    "            .let {\n",
    "                field.set(this, it)\n",
    "            }\n",
    "        field.set(this, displayType)\n",
    "    } catch (e: Exception) {\n",
    "        error(\"Failed to set displayType: ${e.message}\")\n",
    "    }\n",
    "}"
   ],
   "outputs": [],
   "execution_count": null
  },
  {
   "metadata": {},
   "cell_type": "markdown",
   "source": [
    "## Creating a Sticky Timeline Notification\n",
    "\n",
    "Let's create a sticky [timeline notification](https://plugins.jetbrains.com/docs/intellij/balloon.html#suggestion-and-timeline-notifications). Unlike _timed notifications_, a _sticky notification_ will not disappear after 10 seconds."
   ]
  },
  {
   "metadata": {
    "executionRelatedData": {
     "compiledClasses": [
      "Line_14_jupyter",
      "Line_15_jupyter",
      "Line_14_jupyter",
      "Line_16_jupyter",
      "Line_15_jupyter",
      "Line_17_jupyter",
      "Line_16_jupyter",
      "Line_18_jupyter",
      "Line_17_jupyter",
      "Line_19_jupyter",
      "Line_18_jupyter",
      "Line_20_jupyter",
      "Line_19_jupyter",
      "Line_21_jupyter",
      "Line_20_jupyter",
      "Line_22_jupyter",
      "Line_21_jupyter",
      "Line_23_jupyter",
      "Line_22_jupyter",
      "Line_24_jupyter",
      "Line_23_jupyter",
      "Line_25_jupyter",
      "Line_27_jupyter",
      "Line_13_jupyter",
      "Line_28_jupyter",
      "Line_27_jupyter",
      "Line_29_jupyter",
      "Line_28_jupyter",
      "Line_30_jupyter",
      "Line_29_jupyter",
      "Line_31_jupyter",
      "Line_30_jupyter",
      "Line_32_jupyter",
      "Line_31_jupyter",
      "Line_33_jupyter",
      "Line_32_jupyter",
      "Line_34_jupyter",
      "Line_33_jupyter",
      "Line_38_jupyter",
      "Line_34_jupyter"
     ]
    }
   },
   "cell_type": "code",
   "source": [
    "import com.intellij.notification.Notification\n",
    "import com.intellij.notification.NotificationAction\n",
    "import com.intellij.notification.NotificationGroup\n",
    "import com.intellij.notification.NotificationGroupManager\n",
    "import com.intellij.notification.NotificationType\n",
    "import com.intellij.notification.impl.NotificationGroupEP\n",
    "import com.intellij.openapi.actionSystem.AnActionEvent\n",
    "import com.intellij.openapi.extensions.ExtensionPointName\n",
    "import com.intellij.openapi.ui.Messages\n",
    "\n",
    "import java.lang.reflect.Field\n",
    "import java.time.LocalDate\n",
    "import java.time.format.TextStyle\n",
    "import java.util.Locale\n",
    "\n",
    "runInEdt {\n",
    "    val notificationGroupEpName: ExtensionPointName<NotificationGroupEP> = ExtensionPointName.create(\"com.intellij.notificationGroup\")\n",
    "    val notificationGroupId = \"Kotlin Notebook Sample Notifications\"\n",
    "    val notificationGroupEP = NotificationGroupEP().apply {\n",
    "        id = notificationGroupId\n",
    "        setPluginDescriptor(notebookPluginDescriptor)\n",
    "        setDisplayType(\"STICKY_BALLOON\")\n",
    "    }\n",
    "\n",
    "    registerExtension(notificationGroupEpName, notificationGroupEP)\n",
    "\n",
    "    val dayOfWeek = LocalDate.now().dayOfWeek.getDisplayName(TextStyle.FULL, Locale.ENGLISH)\n",
    "\n",
    "    NotificationGroupManager.getInstance()\n",
    "        .getNotificationGroup(notificationGroupId)\n",
    "        .createNotification(\"It's $dayOfWeek.\", NotificationType.INFORMATION)\n",
    "        .addAction(NotificationAction.createExpiring(\"See Wikipedia\") { _, _ ->\n",
    "            BrowserUtil.browse(\"https://en.wikipedia.org/wiki/$dayOfWeek\")\n",
    "        })\n",
    "        .notify(currentProject())\n",
    "}"
   ],
   "outputs": [],
   "execution_count": null
  },
  {
   "metadata": {},
   "cell_type": "markdown",
   "source": [
    "First, we have created an extension point with a corresponding name: `com.intellij.notificationGroup`.\n",
    "Then, we created an instance of `NotificationGroupEP` endpoint that matches the declaration in the plugin descriptor. Then, the notification group identifier (`id`) is set.\n",
    "\n",
    "In the programmatic approach, we need to set the reference to the plugin descriptor that is internally maintained by the Kotlin Notebook (`notebookPluginDescriptor)`.\n",
    "\n",
    "By using our helper function, we declare this notification group to be _sticky_ by using the `STICKY_BALOON` string constant.\n",
    "\n",
    "The notification can contain arbitrary number of actions, presented as hypertext links. We can use `addAction` method, along with `NotificationAction` factory methods, to handle such user interactions."
   ]
  },
  {
   "metadata": {},
   "cell_type": "markdown",
   "source": [
    "# Create a Suggestion Notification\n",
    "\n",
    "A [suggestion notification](https://plugins.jetbrains.com/docs/intellij/balloon.html#suggestion-and-timeline-notifications) shows the recommended action as a noticeable button. By default, it is implemented as a sticky notification."
   ]
  },
  {
   "metadata": {
    "executionRelatedData": {
     "compiledClasses": [
      "Line_35_jupyter",
      "Line_25_jupyter",
      "Line_36_jupyter",
      "Line_35_jupyter",
      "Line_37_jupyter",
      "Line_36_jupyter",
      "Line_39_jupyter",
      "Line_37_jupyter",
      "Line_40_jupyter",
      "Line_39_jupyter",
      "Line_41_jupyter",
      "Line_40_jupyter",
      "Line_42_jupyter",
      "Line_41_jupyter",
      "Line_45_jupyter",
      "Line_42_jupyter",
      "Line_46_jupyter",
      "Line_45_jupyter",
      "Line_47_jupyter",
      "Line_46_jupyter",
      "Line_48_jupyter",
      "Line_47_jupyter",
      "Line_49_jupyter",
      "Line_48_jupyter",
      "Line_50_jupyter",
      "Line_49_jupyter",
      "Line_51_jupyter",
      "Line_50_jupyter",
      "Line_52_jupyter",
      "Line_51_jupyter"
     ]
    }
   },
   "cell_type": "code",
   "source": [
    "import com.intellij.ide.BrowserUtil\n",
    "import com.intellij.notification.Notification\n",
    "import com.intellij.notification.NotificationAction\n",
    "import com.intellij.notification.NotificationGroup\n",
    "import com.intellij.notification.NotificationGroupManager\n",
    "import com.intellij.notification.NotificationType\n",
    "import com.intellij.notification.impl.NotificationGroupEP\n",
    "import com.intellij.openapi.actionSystem.AnActionEvent\n",
    "import com.intellij.openapi.extensions.ExtensionPointName\n",
    "import com.intellij.openapi.ui.Messages\n",
    "\n",
    "import java.lang.reflect.Field\n",
    "import java.time.LocalDate\n",
    "import java.time.format.TextStyle\n",
    "import java.util.Locale\n",
    "\n",
    "runInEdt {\n",
    "    val notificationGroupEpName: ExtensionPointName<NotificationGroupEP> = ExtensionPointName.create(\"com.intellij.notificationGroup\")\n",
    "    val notificationGroupId = \"Kotlin Notebook Sample Suggestions\"\n",
    "    val notificationGroupEP = NotificationGroupEP().apply {\n",
    "        id = notificationGroupId\n",
    "        setDisplayType(\"STICKY_BALLOON\")\n",
    "        setPluginDescriptor(notebookPluginDescriptor)\n",
    "    }\n",
    "\n",
    "    registerExtension(notificationGroupEpName, notificationGroupEP)\n",
    "\n",
    "    val dayOfWeek = LocalDate.now().dayOfWeek.getDisplayName(TextStyle.FULL, Locale.ENGLISH)\n",
    "\n",
    "    NotificationGroupManager.getInstance()\n",
    "        .getNotificationGroup(notificationGroupId)\n",
    "        .createNotification(\"It's $dayOfWeek.\", NotificationType.INFORMATION)\n",
    "        .addAction(NotificationAction.createSimpleExpiring(\"Accept\") {})\n",
    "        .addAction(NotificationAction.create(\"See Wikipedia entry\") { _: AnActionEvent, n: Notification ->\n",
    "            BrowserUtil.browse(\"https://en.wikipedia.org/wiki/$dayOfWeek\")\n",
    "            n.expire()\n",
    "        })\n",
    "        .setSuggestionType(true)\n",
    "        .notify(currentProject())\n",
    "}"
   ],
   "outputs": [],
   "execution_count": null
  },
  {
   "metadata": {},
   "cell_type": "markdown",
   "source": [
    "The `setSuggestionType` method with `true` parameter configures this notification as a _suggestion_. The first action is automatically displayed as a button, while the rest is shown in hyperlinks.\n",
    "\n",
    "### Handling Notification Actions\n",
    "\n",
    "The `addAction` method will add a new `AnAction` to the notification. To simplify the configuration, a `NotificationAction` class has multiple helper methods to create notification-specific actions along with implicit behaviour and Kotlin-friendly API.\n",
    "\n",
    "In the example, we use two helper methods. The `createSimpleExpiring` method will create a simple action that will execute a given handler and then automatically expire the notification including its removal from the Notifications tool window.\n",
    "\n",
    "The `create` method to create a simple action along with action handler that opens a default browser with a Wikipedia page. On top of that, the notification will be explicitly expired by calling the `expire` method on the notification object provided in the handler parameter."
   ]
  },
  {
   "metadata": {},
   "cell_type": "markdown",
   "source": [
    "# Summary\n",
    "\n",
    "* Create `NotificationGroupEP` extension point to configure notifications and register it in the Kotlin Notebook.\n",
    "* Create helper function that overcomes Platform issue with programmatic registration of notification group endpoints.\n",
    "* Use `NotificationGroupManager` to create notification instances in the specific notification group.\n",
    "* Use `STICKY_BALLOON` to configure sticky notifications.\n",
    "* Use `setSuggestionType` to show suggestion notifications with prominent button as a first action\n",
    "* Use `addAction` along with `NotificationActions` to configure button or hyperlink handlers."
   ]
  }
 ],
 "metadata": {
  "kernelspec": {
   "display_name": "Kotlin",
   "language": "kotlin",
   "name": "kotlin"
  },
  "language_info": {
   "name": "kotlin",
   "version": "2.2.20-Beta2",
   "mimetype": "text/x-kotlin",
   "file_extension": ".kt",
   "pygments_lexer": "kotlin",
   "codemirror_mode": "text/x-kotlin",
   "nbconvert_exporter": ""
  },
  "ktnbPluginMetadata": {
   "sessionRunMode": "IDE_PROCESS"
  }
 },
 "nbformat": 4,
 "nbformat_minor": 0
}
