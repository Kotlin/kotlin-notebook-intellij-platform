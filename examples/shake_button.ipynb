{
 "cells": [
  {
   "metadata": {},
   "cell_type": "markdown",
   "source": [
    "# Shake Button\n",
    "\n",
    "This notebook renders a button using the [Kotlin UI DSL](https://plugins.jetbrains.com/docs/intellij/kotlin-ui-dsl-version-2.html) with an action assigned to shake your IDE."
   ]
  },
  {
   "metadata": {
    "ExecuteTime": {
     "end_time": "2025-07-28T10:04:27.082949Z",
     "start_time": "2025-07-28T10:04:26.615139Z"
    }
   },
   "cell_type": "code",
   "source": "%use intellij-platform",
   "outputs": [
    {
     "data": {
      "text/plain": [
       "IntelliJ Platform integration is loaded"
      ]
     },
     "metadata": {},
     "output_type": "display_data",
     "jetTransient": {
      "display_id": null
     }
    }
   ],
   "execution_count": 1
  },
  {
   "metadata": {
    "ExecuteTime": {
     "end_time": "2025-07-28T10:04:27.210701Z",
     "start_time": "2025-07-28T10:04:27.088885Z"
    }
   },
   "cell_type": "code",
   "source": [
    "import com.intellij.openapi.ui.DialogEarthquakeShaker\n",
    "import com.intellij.openapi.wm.WindowManager\n",
    "import com.intellij.ui.dsl.builder.panel\n",
    "import com.intellij.util.ui.JBUI\n",
    "\n",
    "panel {\n",
    "    row {\n",
    "        button(\"Shake it!\") {\n",
    "            val project = currentProject()\n",
    "            val window = WindowManager.getInstance().getFrame(project)\n",
    "\n",
    "            DialogEarthquakeShaker.shake(window)\n",
    "        }\n",
    "    }\n",
    "}.apply {\n",
    "    size = JBUI.size(500, 200)\n",
    "    border = JBUI.Borders.empty(10, 20)\n",
    "}"
   ],
   "outputs": [
    {
     "data": {
      "image/png": "[encoded data removed]",
      "application/vnd.idea.swing": "2"
     },
     "execution_count": 2,
     "metadata": {},
     "output_type": "execute_result"
    }
   ],
   "execution_count": 2
  }
 ],
 "metadata": {
  "kernelspec": {
   "display_name": "Kotlin",
   "language": "kotlin",
   "name": "kotlin"
  },
  "language_info": {
   "name": "kotlin",
   "version": "2.2.20-dev-4982",
   "mimetype": "text/x-kotlin",
   "file_extension": ".kt",
   "pygments_lexer": "kotlin",
   "codemirror_mode": "text/x-kotlin",
   "nbconvert_exporter": ""
  },
  "ktnbPluginMetadata": {
   "sessionRunMode": "IDE_PROCESS"
  }
 },
 "nbformat": 4,
 "nbformat_minor": 0
}
