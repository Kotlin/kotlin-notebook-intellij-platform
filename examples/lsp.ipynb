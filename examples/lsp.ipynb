{
 "cells": [
  {
   "metadata": {},
   "cell_type": "markdown",
   "source": [
    "# Language Server Protocol (LSP) Integration Example\n",
    "\n",
    "The [Language Server Protocol](https://microsoft.github.io/language-server-protocol/) is an open-standard protocol for communication between development tools and Language Servers.\n",
    "\n",
    "Specifically, [Language Server for Kotlin](https://github.com/Kotlin/kotlin-lsp) provides features that can integrate into JetBrains IDEs for Kotlin development.\n",
    "\n",
    "## Downloading the Language Server for Kotlin\n",
    "\n",
    "The [Language Server for Kotlin](https://github.com/Kotlin/kotlin-lsp) is available as a standalone distribution.\n",
    "Please follow the instructions on the project page to download the latest version for your operating system.\n",
    "Make sure that the `kotlin-lsp` executable is available in your `PATH` environment variable.\n",
    "\n",
    "## IntelliJ Platform Integration and Bundled Plugin\n",
    "\n",
    "Declare an integration with IntelliJ Platform that will configure necessary libraries."
   ]
  },
  {
   "metadata": {
    "collapsed": true
   },
   "cell_type": "code",
   "source": "%use intellij-platform",
   "outputs": [],
   "execution_count": null
  },
  {
   "metadata": {},
   "cell_type": "markdown",
   "source": [
    "The Language Server Protocol support is available in the commercial JetBrains IDEs.\n",
    "To enable this, load a bundled plugin that provides this functionality.\n",
    "Use `loadBundledPlugins` function to load it."
   ]
  },
  {
   "metadata": {},
   "cell_type": "code",
   "source": "loadBundledPlugins(\"com.intellij.modules.ultimate\")",
   "outputs": [],
   "execution_count": null
  },
  {
   "metadata": {},
   "cell_type": "markdown",
   "source": [
    "## Integrating the Server with Kotlin Files\n",
    "\n",
    "To integrate the Kotlin LSP, two components are required:\n",
    "\n",
    "1. an LSP server descriptor that indicates supported files. Additionally, it provides a command line to start the server in a standalone process.\n",
    "2. an LSP support provider that will ensure that the server is available for a given file.\n",
    "\n",
    "### Server Descriptor\n",
    "\n",
    "Create a server descriptor that will support files with `.kn` extension.\n",
    "To start the LSP server, a command line needs to be created. Use the `kotlin-lsp` binary available in the `PATH` environment variable with `--stdio` switch that enables the communication via standard input and output streams."
   ]
  },
  {
   "metadata": {},
   "cell_type": "code",
   "source": [
    "import com.intellij.execution.configurations.GeneralCommandLine\n",
    "import com.intellij.openapi.project.Project\n",
    "import com.intellij.openapi.vfs.VirtualFile\n",
    "import com.intellij.platform.lsp.api.ProjectWideLspServerDescriptor\n",
    "\n",
    "class KotlinLspServerDescriptor(project: Project) : ProjectWideLspServerDescriptor(project, \"KN Kotlin LSP\") {\n",
    "    override fun isSupportedFile(file: VirtualFile) = file.extension == \"kt\"\n",
    "\n",
    "    override fun createCommandLine() = GeneralCommandLine(\"kotlin-lsp\", \"--stdio\")\n",
    "}"
   ],
   "outputs": [],
   "execution_count": null
  },
  {
   "metadata": {},
   "cell_type": "markdown",
   "source": [
    "## LSP Support Provider\n",
    "\n",
    "Create a LSP Support provider that will start the LSP server, if necessary, with the corresponding Server Descriptor."
   ]
  },
  {
   "metadata": {},
   "cell_type": "code",
   "source": [
    "import com.intellij.platform.lsp.api.LspServerSupportProvider\n",
    "\n",
    "class KotlinLspServerSupportProvider : LspServerSupportProvider {\n",
    "    override fun fileOpened(project: Project, file: VirtualFile, serverStarter: LspServerSupportProvider.LspServerStarter) {\n",
    "        if (file.extension == \"kt\") {\n",
    "            serverStarter.ensureServerStarted(KotlinLspServerDescriptor(project))\n",
    "        }\n",
    "    }\n",
    "}"
   ],
   "outputs": [],
   "execution_count": null
  },
  {
   "metadata": {},
   "cell_type": "markdown",
   "source": [
    "## Registering an Extension Point\n",
    "\n",
    "The `KotlinLspServerSupportProvider` is an extension point that needs to be registered to the corresponding extension point.\n",
    "We need to represent the plugin descriptor extension declaration in Kotlin code.\n",
    "\n",
    "The plugin descriptor (`plugin.xml`) declaration in the full-fledged plugin is as follows:\n",
    "\n",
    "```xml\n",
    "<extensions defaultExtensionNs=\"com.intellij\">\n",
    "    <platform.lsp.serverSupportProvider implementation=\"com.example.KotlinLspServerSupportProvider\"/>\n",
    "</extensions>\n",
    "```\n",
    "\n",
    "Luckily, such XML descriptor is unnecessary in this Kotlin Notebook.\n",
    "Instead, create an instance of the LSP Server Support provider. Then, register it under corresponding extension point."
   ]
  },
  {
   "metadata": {},
   "cell_type": "code",
   "source": [
    "import com.intellij.platform.lsp.api.LspServerManager\n",
    "import com.intellij.platform.lsp.api.LspServerSupportProvider\n",
    "\n",
    "runInEdt {\n",
    "    registerExtension(LspServerSupportProvider.EP_NAME, KotlinLspServerSupportProvider())\n",
    "}"
   ],
   "outputs": [],
   "execution_count": null
  },
  {
   "metadata": {},
   "cell_type": "markdown",
   "source": [
    "## Testing the Integration\n",
    "\n",
    "To test the integration, create a Kotlin file with some unnecessary constructs.\n",
    "\n",
    "```kotlin\n",
    "import java.util.List\n",
    "\n",
    "class Hello {\n",
    "    fun sayHello() = \"Hello, world!\"\n",
    "}\n",
    "```\n",
    "\n",
    "Observe two warnings: an unnecessary import and an implicit return type for `sayHello` function.\n",
    "\n",
    "[Show Intention Actions](https://www.jetbrains.com/help/idea/intention-actions.html) and observe two actions in the list provided by the LSP server.\n",
    "\n",
    "* *Organize Imports* removes the unnecessary `import java.util.List`\n",
    "* *Specify type explicitly* adds an explicit `String` return type to `sayHello` function.\n",
    "\n",
    "These actions might be duplicated by native intention actions provided by the JetBrains IDEs such as *Organize imports* or *Specify return type explicitly*."
   ]
  },
  {
   "metadata": {},
   "cell_type": "markdown",
   "source": [
    "## Summary\n",
    "\n",
    "- Load the `com.intellij.modules.ultimate` plugin to support the LSP functionality.\n",
    "- Register a `LspServerSupportProvider` subclass into the `com.intellij.platform.lsp.serverSupportProvider` extension point.\n",
    "- Create a `ProjectWideLspServerDescriptor` subclass to launch the LSP server in a standalone process and standard input and output streams as a communication channel.\n",
    "- Observe how the functionality is provided in the Intention Action list."
   ]
  }
 ],
 "metadata": {
  "kernelspec": {
   "display_name": "Kotlin",
   "language": "kotlin",
   "name": "kotlin"
  },
  "language_info": {
   "name": "kotlin",
   "version": "2.2.20-Beta2",
   "mimetype": "text/x-kotlin",
   "file_extension": ".kt",
   "pygments_lexer": "kotlin",
   "codemirror_mode": "text/x-kotlin",
   "nbconvert_exporter": ""
  },
  "ktnbPluginMetadata": {
   "sessionRunMode": "IDE_PROCESS"
  }
 },
 "nbformat": 4,
 "nbformat_minor": 0
}
